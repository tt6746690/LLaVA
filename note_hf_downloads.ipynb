{
 "cells": [
  {
   "cell_type": "code",
   "execution_count": null,
   "id": "249eeb73-b28a-42bc-b169-d51b64e5b84e",
   "metadata": {},
   "outputs": [],
   "source": [
    "import os"
   ]
  },
  {
   "cell_type": "markdown",
   "id": "6efdd8a1-14b9-43b9-a018-b9c35e68d1b3",
   "metadata": {},
   "source": [
    "### dataset"
   ]
  },
  {
   "cell_type": "code",
   "execution_count": 2,
   "id": "278aaae4-8569-4de2-87f7-505ba333d46e",
   "metadata": {},
   "outputs": [
    {
     "name": "stderr",
     "output_type": "stream",
     "text": [
      "Fetching 8 files:   0%|          | 0/8 [00:00<?, ?it/s]/fsx/wpq/miniconda3/envs/llava/lib/python3.10/site-packages/huggingface_hub/file_download.py:1194: UserWarning: `local_dir_use_symlinks` parameter is deprecated and will be ignored. The process to download files to a local folder has been updated and do not rely on symlinks anymore. You only need to pass a destination folder as`local_dir`.\n",
      "For more details, check out https://huggingface.co/docs/huggingface_hub/main/en/guides/download#download-files-to-local-folder.\n",
      "  warnings.warn(\n",
      "Fetching 8 files: 100%|██████████| 8/8 [00:02<00:00,  2.94it/s]\n"
     ]
    }
   ],
   "source": [
    "import os\n",
    "from huggingface_hub import snapshot_download\n",
    "\n",
    "save_dir = 'data/'\n",
    "os.makedirs(save_dir, exist_ok=True)\n",
    "\n",
    "repo_ids = [\n",
    "    'liuhaotian/LLaVA-Pretrain',\n",
    "    'liuhaotian/LLaVA-Instruct-150K',\n",
    "]\n",
    "\n",
    "for repo_id in repo_ids:\n",
    "    snapshot_download(repo_id=repo_id, \n",
    "                      repo_type=\"dataset\", \n",
    "                      local_dir=os.path.realpath(os.path.join(save_dir, repo_id)), \n",
    "                      local_dir_use_symlinks=False)"
   ]
  },
  {
   "cell_type": "markdown",
   "id": "62d3f712-83cb-4d98-9505-81a8f2be5676",
   "metadata": {},
   "source": [
    "### model"
   ]
  },
  {
   "cell_type": "code",
   "execution_count": null,
   "id": "06bdf3c6-779e-4b98-8449-27021fb95f7b",
   "metadata": {},
   "outputs": [],
   "source": [
    "import os\n",
    "from huggingface_hub import snapshot_download\n",
    "\n",
    "save_dir = 'results/baselines/'\n",
    "os.makedirs(save_dir, exist_ok=True)\n",
    "\n",
    "repo_ids = [\n",
    "    # vision \n",
    "    'openai/clip-vit-large-patch14-336',\n",
    "    # llm\n",
    "    'lmsys/vicuna-7b-v1.5',\n",
    "    'NousResearch/Llama-2-7b-hf',\n",
    "]\n",
    "\n",
    "for repo_id in repo_ids:\n",
    "    snapshot_download(repo_id=repo_id, local_dir=os.path.realpath(os.path.join(save_dir, repo_id)))"
   ]
  }
 ],
 "metadata": {
  "kernelspec": {
   "display_name": "Python [conda env:llava]",
   "language": "python",
   "name": "conda-env-llava-py"
  },
  "language_info": {
   "codemirror_mode": {
    "name": "ipython",
    "version": 3
   },
   "file_extension": ".py",
   "mimetype": "text/x-python",
   "name": "python",
   "nbconvert_exporter": "python",
   "pygments_lexer": "ipython3",
   "version": "3.10.14"
  }
 },
 "nbformat": 4,
 "nbformat_minor": 5
}
