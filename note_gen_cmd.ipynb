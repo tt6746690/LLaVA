{
 "cells": [
  {
   "cell_type": "code",
   "execution_count": 62,
   "id": "dc14e2cf-7b86-4071-b501-2ac1f3b63e23",
   "metadata": {},
   "outputs": [],
   "source": [
    "import re\n",
    "import os\n",
    "import json\n",
    "os.chdir('/fsx/wpq/github/metasummer2024/external/LLaVA') # jupyter lab moving ipynb does not change !pwd properly."
   ]
  },
  {
   "cell_type": "code",
   "execution_count": 7,
   "id": "a9253dfb-00cd-41e8-b894-5a059903aea2",
   "metadata": {},
   "outputs": [],
   "source": [
    "from rosemary.submit import shell_scripts_template, submit_job_slurm"
   ]
  },
  {
   "cell_type": "code",
   "execution_count": 67,
   "id": "18cf9bdf-f6a9-4b1a-8bb0-6c814633c208",
   "metadata": {},
   "outputs": [
    {
     "name": "stdout",
     "output_type": "stream",
     "text": [
      "Submitted batch job 350129\n",
      "\n",
      "[\n",
      "    {\n",
      "        \"args\": \"sbatch /fsx/wpq/.sbatch/2024-06-06_06:19:49_b7d31d6b-a18e-402e-8556-a85de2d67683.sh\",\n",
      "        \"job_id\": 350129\n",
      "    }\n",
      "]\n"
     ]
    }
   ],
   "source": [
    "\n",
    "test_run = False\n",
    "\n",
    "job_name = 'pt'\n",
    "nodes = 1; num_gpus = 8; cpu_mem = 1000; num_cpus = 96\n",
    "\n",
    "attn_implementation = 'flash_attention_2'\n",
    "\n",
    "model_name_or_path = './results/baselines/lmsys/vicuna-7b-v1.5'\n",
    "data_path = './data/train/LLaVA-Pretrain/blip_laion_cc_sbu_558k.json'\n",
    "image_folder = './data/train/LLaVA-Pretrain/images'\n",
    "vision_tower = './results/baselines/openai/clip-vit-large-patch14-336'\n",
    "mm_projector_type = 'mlp2x_gelu'\n",
    "train_size = None\n",
    "\n",
    "output_dir = './results/pretrain/llava-v1.5-7b'\n",
    "\n",
    "\n",
    "\n",
    "cmds = []\n",
    "\n",
    "cmd = f\"\"\"\n",
    "deepspeed llava/train/train_mem.py \\\n",
    "    --deepspeed ./scripts/zero2.json \\\n",
    "    --model_name_or_path {model_name_or_path} \\\n",
    "    --version plain \\\n",
    "    --data_path {data_path} \\\n",
    "    --image_folder {image_folder} \\\n",
    "    --vision_tower {vision_tower} \\\n",
    "    --mm_projector_type {mm_projector_type} \\\n",
    "    --tune_mm_mlp_adapter True \\\n",
    "    --mm_vision_select_layer -2 \\\n",
    "    --mm_use_im_start_end False \\\n",
    "    --mm_use_im_patch_token False \\\n",
    "    --bf16 True \\\n",
    "    --output_dir {output_dir} \\\n",
    "    {\"--train_size \" + str(train_size) if train_size else \"\"} \\\n",
    "    --num_train_epochs 1 \\\n",
    "    --per_device_train_batch_size 32 \\\n",
    "    --per_device_eval_batch_size 4 \\\n",
    "    --gradient_accumulation_steps 1 \\\n",
    "    --evaluation_strategy \"no\" \\\n",
    "    --save_strategy \"steps\" \\\n",
    "    --save_steps 24000 \\\n",
    "    --save_total_limit 1 \\\n",
    "    --learning_rate 1e-3 \\\n",
    "    --weight_decay 0. \\\n",
    "    --warmup_ratio 0.03 \\\n",
    "    --lr_scheduler_type \"cosine\" \\\n",
    "    --logging_steps 1 \\\n",
    "    --tf32 True \\\n",
    "    --model_max_length 2048 \\\n",
    "    --gradient_checkpointing True \\\n",
    "    --dataloader_num_workers 4 \\\n",
    "    --lazy_preprocess True \\\n",
    "    --report_to wandb\n",
    "\"\"\"\n",
    "\n",
    "if test_run:\n",
    "    print('\\n'+' \\\\\\n\\t'.join([x.strip() for x in re.split(r'\\s{3,}', cmd)]))\n",
    "\n",
    "cmd = multiline_to_singleline(cmd)\n",
    "cmds.append(cmd)\n",
    "\n",
    "\n",
    "shell_scripts = shell_scripts_template.format(\n",
    "    profile='/fsx/wpq/.profile_local.sh',\n",
    "    conda_env='llava',\n",
    "    cwd=os.getcwd(),\n",
    "    cmd=cmd,\n",
    "    log_dir=os.getcwd(),\n",
    "    save_dir=output_dir\n",
    ")\n",
    "\n",
    "out = submit_job_slurm(\n",
    "    shell_scripts,\n",
    "    job_name=job_name,\n",
    "    partition='learnai4p',\n",
    "    nodes=nodes,\n",
    "    num_cpus=num_cpus,\n",
    "    cpu_mem=cpu_mem,\n",
    "    num_gpus=num_gpus,\n",
    "    test_run=test_run,\n",
    ")\n",
    "\n",
    "print(json.dumps(out, indent=4))\n",
    "\n"
   ]
  }
 ],
 "metadata": {
  "kernelspec": {
   "display_name": "Python [conda env:llava]",
   "language": "python",
   "name": "conda-env-llava-py"
  },
  "language_info": {
   "codemirror_mode": {
    "name": "ipython",
    "version": 3
   },
   "file_extension": ".py",
   "mimetype": "text/x-python",
   "name": "python",
   "nbconvert_exporter": "python",
   "pygments_lexer": "ipython3",
   "version": "3.10.14"
  }
 },
 "nbformat": 4,
 "nbformat_minor": 5
}
